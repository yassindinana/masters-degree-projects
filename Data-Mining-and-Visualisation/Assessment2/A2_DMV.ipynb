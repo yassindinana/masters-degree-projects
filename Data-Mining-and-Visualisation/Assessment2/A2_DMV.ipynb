{
  "nbformat": 4,
  "nbformat_minor": 0,
  "metadata": {
    "accelerator": "GPU",
    "colab": {
      "name": "A2_DMV.ipynb",
      "provenance": [],
      "collapsed_sections": []
    },
    "kernelspec": {
      "display_name": "Python 3",
      "name": "python3"
    },
    "language_info": {
      "name": "python"
    }
  },
  "cells": [
    {
      "cell_type": "markdown",
      "metadata": {
        "id": "aNI32giGqOzD"
      },
      "source": [
        "#Part 1\n",
        "\n",
        "Create an apache spark environment and load the dataset provided. You may use CoLab or a jupyter notebook. Please create a table providing summary statistics of this dataset, i.e. mean values, range, standard deviations, min/max values, median values and 25%/50%/75% percentile values. Comment on whether there are any missing values present throughout. The column that contains the labels (normal/abnormal) should not be part of the table"
      ]
    },
    {
      "cell_type": "code",
      "metadata": {
        "colab": {
          "base_uri": "https://localhost:8080/"
        },
        "id": "9SU25GvCFJGE",
        "outputId": "edc64354-fb04-4e0b-f35e-89f9c6f4aa3e"
      },
      "source": [
        "pip install handyspark"
      ],
      "execution_count": 227,
      "outputs": [
        {
          "output_type": "stream",
          "text": [
            "Requirement already satisfied: handyspark in /usr/local/lib/python3.7/dist-packages (0.2.2a1)\n",
            "Requirement already satisfied: numpy in /usr/local/lib/python3.7/dist-packages (from handyspark) (1.19.5)\n",
            "Requirement already satisfied: matplotlib in /usr/local/lib/python3.7/dist-packages (from handyspark) (3.2.2)\n",
            "Requirement already satisfied: pyarrow in /usr/local/lib/python3.7/dist-packages (from handyspark) (3.0.0)\n",
            "Requirement already satisfied: scipy in /usr/local/lib/python3.7/dist-packages (from handyspark) (1.4.1)\n",
            "Requirement already satisfied: pandas in /usr/local/lib/python3.7/dist-packages (from handyspark) (1.1.5)\n",
            "Requirement already satisfied: seaborn in /usr/local/lib/python3.7/dist-packages (from handyspark) (0.11.1)\n",
            "Requirement already satisfied: scikit-learn in /usr/local/lib/python3.7/dist-packages (from handyspark) (0.22.2.post1)\n",
            "Requirement already satisfied: findspark in /usr/local/lib/python3.7/dist-packages (from handyspark) (1.4.2)\n",
            "Requirement already satisfied: pyspark in /usr/local/lib/python3.7/dist-packages (from handyspark) (3.1.1)\n",
            "Requirement already satisfied: python-dateutil>=2.1 in /usr/local/lib/python3.7/dist-packages (from matplotlib->handyspark) (2.8.1)\n",
            "Requirement already satisfied: pyparsing!=2.0.4,!=2.1.2,!=2.1.6,>=2.0.1 in /usr/local/lib/python3.7/dist-packages (from matplotlib->handyspark) (2.4.7)\n",
            "Requirement already satisfied: cycler>=0.10 in /usr/local/lib/python3.7/dist-packages (from matplotlib->handyspark) (0.10.0)\n",
            "Requirement already satisfied: kiwisolver>=1.0.1 in /usr/local/lib/python3.7/dist-packages (from matplotlib->handyspark) (1.3.1)\n",
            "Requirement already satisfied: pytz>=2017.2 in /usr/local/lib/python3.7/dist-packages (from pandas->handyspark) (2018.9)\n",
            "Requirement already satisfied: joblib>=0.11 in /usr/local/lib/python3.7/dist-packages (from scikit-learn->handyspark) (1.0.1)\n",
            "Requirement already satisfied: py4j==0.10.9 in /usr/local/lib/python3.7/dist-packages (from pyspark->handyspark) (0.10.9)\n",
            "Requirement already satisfied: six>=1.5 in /usr/local/lib/python3.7/dist-packages (from python-dateutil>=2.1->matplotlib->handyspark) (1.15.0)\n"
          ],
          "name": "stdout"
        }
      ]
    },
    {
      "cell_type": "code",
      "metadata": {
        "colab": {
          "base_uri": "https://localhost:8080/"
        },
        "id": "SfnZscrO5pKJ",
        "outputId": "f696cea9-5a73-4e12-f3d9-4b03c4d74353"
      },
      "source": [
        "from google.colab import drive \n",
        "drive.mount('/content/drive/')"
      ],
      "execution_count": 228,
      "outputs": [
        {
          "output_type": "stream",
          "text": [
            "Drive already mounted at /content/drive/; to attempt to forcibly remount, call drive.mount(\"/content/drive/\", force_remount=True).\n"
          ],
          "name": "stdout"
        }
      ]
    },
    {
      "cell_type": "code",
      "metadata": {
        "colab": {
          "base_uri": "https://localhost:8080/"
        },
        "id": "iVsTzj7V3eFq",
        "outputId": "eb2449b5-0f5a-4b41-dc95-3f80735b01f6"
      },
      "source": [
        "import os       #importing os to set environment variable\n",
        "def install_java():\n",
        "  !apt-get install -y openjdk-8-jdk-headless -qq > /dev/null      #install openjdk\n",
        "  os.environ[\"JAVA_HOME\"] = \"/usr/lib/jvm/java-8-openjdk-amd64\"     #set environment variable\n",
        "  !java -version       #check java version\n",
        "install_java()"
      ],
      "execution_count": 229,
      "outputs": [
        {
          "output_type": "stream",
          "text": [
            "openjdk version \"11.0.10\" 2021-01-19\n",
            "OpenJDK Runtime Environment (build 11.0.10+9-Ubuntu-0ubuntu1.18.04)\n",
            "OpenJDK 64-Bit Server VM (build 11.0.10+9-Ubuntu-0ubuntu1.18.04, mixed mode, sharing)\n"
          ],
          "name": "stdout"
        }
      ]
    },
    {
      "cell_type": "code",
      "metadata": {
        "id": "T5yhq7ZI3eC0"
      },
      "source": [
        "!wget -q https://www-us.apache.org/dist/spark/spark-2.4.7/spark-2.4.7-bin-hadoop2.7.tgz"
      ],
      "execution_count": 230,
      "outputs": []
    },
    {
      "cell_type": "code",
      "metadata": {
        "id": "owzwpZbF3eAn"
      },
      "source": [
        "!tar xf spark-2.4.7-bin-hadoop2.7.tgz"
      ],
      "execution_count": 231,
      "outputs": []
    },
    {
      "cell_type": "code",
      "metadata": {
        "id": "W_9ilIGn3d9p"
      },
      "source": [
        "!pip install -q findspark"
      ],
      "execution_count": 232,
      "outputs": []
    },
    {
      "cell_type": "code",
      "metadata": {
        "colab": {
          "base_uri": "https://localhost:8080/"
        },
        "id": "kVrXiAhL3d62",
        "outputId": "fe2979d0-a833-461a-d3ab-c7643f54f5dd"
      },
      "source": [
        "#To find the GPU information allocated to play with run the below snippet of code\n",
        "!ln -sf /opt/bin/nvidia-smi /usr/bin/nvidia-smi\n",
        "!pip install gputil\n",
        "!pip install psutil\n",
        "!pip install humanize\n",
        "import psutil\n",
        "import humanize\n",
        "import os\n",
        "import GPUtil as GPU\n",
        "GPUs = GPU.getGPUs()\n",
        "# XXX: only one GPU on Colab and isn’t guaranteed\n",
        "gpu = GPUs[0]\n",
        "def printm():\n",
        " process = psutil.Process(os.getpid())\n",
        " print(\"Gen RAM Free: \" + humanize.naturalsize( psutil.virtual_memory().available ), \" | Proc size: \" + humanize.naturalsize( process.memory_info().rss))\n",
        " print(\"GPU RAM Free: {0:.0f}MB | Used: {1:.0f}MB | Util {2:3.0f}% | Total {3:.0f}MB\".format(gpu.memoryFree, gpu.memoryUsed, gpu.memoryUtil*100, gpu.memoryTotal))\n",
        "printm() "
      ],
      "execution_count": 233,
      "outputs": [
        {
          "output_type": "stream",
          "text": [
            "Requirement already satisfied: gputil in /usr/local/lib/python3.7/dist-packages (1.4.0)\n",
            "Requirement already satisfied: psutil in /usr/local/lib/python3.7/dist-packages (5.4.8)\n",
            "Requirement already satisfied: humanize in /usr/local/lib/python3.7/dist-packages (0.5.1)\n",
            "Gen RAM Free: 11.5 GB  | Proc size: 205.5 MB\n",
            "GPU RAM Free: 15109MB | Used: 0MB | Util   0% | Total 15109MB\n"
          ],
          "name": "stdout"
        }
      ]
    },
    {
      "cell_type": "code",
      "metadata": {
        "id": "5OZ_eovu3d3_"
      },
      "source": [
        "import os\n",
        "os.environ[\"SPARK_HOME\"] = \"/content/spark-2.4.7-bin-hadoop2.7\"\n",
        "import findspark\n",
        "findspark.init()"
      ],
      "execution_count": 234,
      "outputs": []
    },
    {
      "cell_type": "code",
      "metadata": {
        "id": "kmGBqurx3d1k"
      },
      "source": [
        "from pyspark.sql import SparkSession\n",
        "spark = SparkSession.builder \\\n",
        "    .master(\"local[*]\") \\\n",
        "    .appName(\"Learning_Spark\") \\\n",
        "    .getOrCreate()"
      ],
      "execution_count": 235,
      "outputs": []
    },
    {
      "cell_type": "code",
      "metadata": {
        "id": "LCST4KMT3dyM"
      },
      "source": [
        "#Importing Libraries \n",
        "import pandas as pd\n",
        "import numpy as np\n",
        "import matplotlib.pyplot as plt\n",
        "import seaborn as sns"
      ],
      "execution_count": 236,
      "outputs": []
    },
    {
      "cell_type": "code",
      "metadata": {
        "id": "qZkzNrmy3dva"
      },
      "source": [
        "#Creating function to export spark dataframe to pandas\n",
        "def export_table(spark_df):\n",
        "  df = spark_df.toPandas()\n",
        "  df = df.transpose()\n",
        "  new_header = df.iloc[0]\n",
        "  df = df[1:] #take the data less the header row\n",
        "  df.columns = new_header #set the header row as the df header\n",
        "  return df"
      ],
      "execution_count": 237,
      "outputs": []
    },
    {
      "cell_type": "code",
      "metadata": {
        "id": "8bUK5DUI3dsb",
        "colab": {
          "base_uri": "https://localhost:8080/"
        },
        "outputId": "38f711fc-08a3-4894-b801-f3e14cfec2e2"
      },
      "source": [
        "#Convert XLSX to CSV\n",
        "read_file = pd.read_excel ('/content/drive/MyDrive/Masters/Semester 2/Data Mining & Visualisation/Assessments/Assessment2/CS551G_DMV_Assessment_2_Dataset.xlsx')\n",
        "data = spark.createDataFrame(read_file)\n",
        "#read_file.to_csv ('/content/drive/MyDrive/Masters/Semester 2/Data Mining & Visualisation/Assessments/Assessment2/new_CS551G_DMV_Assessment_2_Dataset.csv', index = None, header=True)"
      ],
      "execution_count": 238,
      "outputs": [
        {
          "output_type": "stream",
          "text": [
            "/content/spark-2.4.7-bin-hadoop2.7/python/pyspark/sql/session.py:714: UserWarning: createDataFrame attempted Arrow optimization because 'spark.sql.execution.arrow.enabled' is set to true; however, failed by the reason below:\n",
            "  An error occurred while calling z:org.apache.spark.sql.api.python.PythonSQLUtils.readArrowStreamFromFile.\n",
            ": java.lang.IllegalArgumentException\n",
            "\tat java.nio.ByteBuffer.allocate(ByteBuffer.java:334)\n",
            "\tat org.apache.arrow.vector.ipc.message.MessageSerializer.readMessage(MessageSerializer.java:543)\n",
            "\tat org.apache.spark.sql.execution.arrow.ArrowConverters$$anon$3.readNextBatch(ArrowConverters.scala:243)\n",
            "\tat org.apache.spark.sql.execution.arrow.ArrowConverters$$anon$3.<init>(ArrowConverters.scala:229)\n",
            "\tat org.apache.spark.sql.execution.arrow.ArrowConverters$.getBatchesFromStream(ArrowConverters.scala:228)\n",
            "\tat org.apache.spark.sql.execution.arrow.ArrowConverters$$anonfun$readArrowStreamFromFile$2.apply(ArrowConverters.scala:216)\n",
            "\tat org.apache.spark.sql.execution.arrow.ArrowConverters$$anonfun$readArrowStreamFromFile$2.apply(ArrowConverters.scala:214)\n",
            "\tat org.apache.spark.util.Utils$.tryWithResource(Utils.scala:2543)\n",
            "\tat org.apache.spark.sql.execution.arrow.ArrowConverters$.readArrowStreamFromFile(ArrowConverters.scala:214)\n",
            "\tat org.apache.spark.sql.api.python.PythonSQLUtils$.readArrowStreamFromFile(PythonSQLUtils.scala:46)\n",
            "\tat org.apache.spark.sql.api.python.PythonSQLUtils.readArrowStreamFromFile(PythonSQLUtils.scala)\n",
            "\tat sun.reflect.NativeMethodAccessorImpl.invoke0(Native Method)\n",
            "\tat sun.reflect.NativeMethodAccessorImpl.invoke(NativeMethodAccessorImpl.java:62)\n",
            "\tat sun.reflect.DelegatingMethodAccessorImpl.invoke(DelegatingMethodAccessorImpl.java:43)\n",
            "\tat java.lang.reflect.Method.invoke(Method.java:498)\n",
            "\tat py4j.reflection.MethodInvoker.invoke(MethodInvoker.java:244)\n",
            "\tat py4j.reflection.ReflectionEngine.invoke(ReflectionEngine.java:357)\n",
            "\tat py4j.Gateway.invoke(Gateway.java:282)\n",
            "\tat py4j.commands.AbstractCommand.invokeMethod(AbstractCommand.java:132)\n",
            "\tat py4j.commands.CallCommand.execute(CallCommand.java:79)\n",
            "\tat py4j.GatewayConnection.run(GatewayConnection.java:238)\n",
            "\tat java.lang.Thread.run(Thread.java:748)\n",
            "\n",
            "Attempting non-optimization as 'spark.sql.execution.arrow.fallback.enabled' is set to true.\n",
            "  warnings.warn(msg)\n"
          ],
          "name": "stderr"
        }
      ]
    },
    {
      "cell_type": "code",
      "metadata": {
        "colab": {
          "base_uri": "https://localhost:8080/"
        },
        "id": "2Y_NRVMw3dp5",
        "outputId": "7917b67d-5743-4f8c-ac62-c0b2c105e941"
      },
      "source": [
        "#data = spark.createDataFrame(read_file)\n",
        "#data = spark.read.csv('/content/drive/MyDrive/Masters/Semester 2/Data Mining & Visualisation/Assessments/Assessment2/new_CS551G_DMV_Assessment_2_Dataset.csv',inferSchema=True, header=True)\n",
        "data.show(5)"
      ],
      "execution_count": 239,
      "outputs": [
        {
          "output_type": "stream",
          "text": [
            "+------+--------------------+--------------------+--------------------+------------------+------------------+------------------+------------------+------------------+------------------+------------------+------------------+------------------+\n",
            "|Status|Temperature_Sensor_1|Temperature_Sensor_2|Temperature_Sensor_3|Flow_Rate_Sensor_1|Flow_Rate_Sensor_2|Flow_Rate_Sensor_3|Pressure _sensor_1|Pressure _sensor_2|Pressure _sensor_3|Vibration_Sensor_1|Vibration_Sensor_2|Vibration_Sensor_3|\n",
            "+------+--------------------+--------------------+--------------------+------------------+------------------+------------------+------------------+------------------+------------------+------------------+------------------+------------------+\n",
            "|Normal|              4.5044|              0.7443|                6.34|            1.9052|           29.5315|            0.8647|            2.2044|             6.048|           14.4659|            21.648|           15.3429|            1.2186|\n",
            "|Normal|              4.4284|              0.9073|              5.6433|            1.6232|           27.5032|            1.4704|            1.9929|            5.9856|           20.8356|            0.0646|           14.8813|            7.3483|\n",
            "|Normal|              4.5291|              1.0199|               6.113|            1.0565|           26.4271|            1.9247|             1.942|            6.7162|            5.3358|           11.0779|           25.0914|            9.2408|\n",
            "|Normal|              5.1727|              1.0007|              7.8589|            0.2765|           25.1576|             2.609|            2.9234|            6.7485|            1.9017|            1.8463|            28.664|            4.0157|\n",
            "|Normal|              5.2258|              0.6125|              7.9504|            0.1547|           24.0765|            3.2113|            4.4563|            5.8411|            0.5077|              9.37|           34.8122|           13.4966|\n",
            "+------+--------------------+--------------------+--------------------+------------------+------------------+------------------+------------------+------------------+------------------+------------------+------------------+------------------+\n",
            "only showing top 5 rows\n",
            "\n"
          ],
          "name": "stdout"
        }
      ]
    },
    {
      "cell_type": "code",
      "metadata": {
        "colab": {
          "base_uri": "https://localhost:8080/"
        },
        "id": "3o9T5Sww3dm7",
        "outputId": "21f71e63-c0d9-41d0-a8ff-6f025ab42f5f"
      },
      "source": [
        "data.count(), len(data.columns)"
      ],
      "execution_count": 240,
      "outputs": [
        {
          "output_type": "execute_result",
          "data": {
            "text/plain": [
              "(996, 13)"
            ]
          },
          "metadata": {
            "tags": []
          },
          "execution_count": 240
        }
      ]
    },
    {
      "cell_type": "code",
      "metadata": {
        "colab": {
          "base_uri": "https://localhost:8080/"
        },
        "id": "_xZmRiBSzCQn",
        "outputId": "4b39f8a3-647c-4423-ed89-f79e81a5309c"
      },
      "source": [
        "data_temp = data.drop(*['Status']) #Created temporary dataframe to drop 'Status' column\n",
        "summary1 = data_temp.describe()\n",
        "\n",
        "pct_values = [0.25, 0.5, 0.75,]\n",
        "col = data_temp.columns\n",
        "summary2 = spark.createDataFrame(zip(['0.25%', 'median', '0.75%'], *data.approxQuantile(col, pct_values, 0)), [\"summary\"] + col)\n",
        "#Ref: Used function approxQuantile() from https://spark.apache.org/docs/2.1.0/api/python/pyspark.sql.html modified it to include parameters and created Spark DataFrame \n",
        "\n",
        "summary1.show()\n",
        "summary2.show()"
      ],
      "execution_count": 241,
      "outputs": [
        {
          "output_type": "stream",
          "text": [
            "+-------+--------------------+--------------------+--------------------+------------------+------------------+------------------+------------------+------------------+------------------+------------------+------------------+------------------+\n",
            "|summary|Temperature_Sensor_1|Temperature_Sensor_2|Temperature_Sensor_3|Flow_Rate_Sensor_1|Flow_Rate_Sensor_2|Flow_Rate_Sensor_3|Pressure _sensor_1|Pressure _sensor_2|Pressure _sensor_3|Vibration_Sensor_1|Vibration_Sensor_2|Vibration_Sensor_3|\n",
            "+-------+--------------------+--------------------+--------------------+------------------+------------------+------------------+------------------+------------------+------------------+------------------+------------------+------------------+\n",
            "|  count|                 996|                 996|                 996|               996|               996|               996|               996|               996|               996|               996|               996|               996|\n",
            "|   mean|  4.9995738935742935|   6.379273152610439|   9.228112114457828| 7.355272086345389|14.199126817269088| 3.077957961847389| 5.749233845381521| 4.997002126506022| 8.164562875502012|10.001592885542175|15.187981682730907| 9.933591132530118|\n",
            "| stddev|   2.764855518719287|   2.312568802265547|   2.532172890894333| 4.354778181006016|11.680045382938975|2.1260909561041483|2.5261356617270914| 4.165489943788825| 6.173261395362337| 7.336232686802318|12.159624740968102| 7.282383326906687|\n",
            "|    min|              0.0082|              0.0403|            2.583966|            0.0623|            0.0248|          0.008262|          0.001224|            0.0058|               0.0|            0.0185|            0.0646|            0.0092|\n",
            "|    max|             12.1298|             11.9284|             15.7599|         17.235858|           67.9794|         10.242738|           12.6475|          16.55562|         36.186438|           34.8676|           53.2384|           43.2314|\n",
            "+-------+--------------------+--------------------+--------------------+------------------+------------------+------------------+------------------+------------------+------------------+------------------+------------------+------------------+\n",
            "\n",
            "+-------+--------------------+--------------------+--------------------+------------------+------------------+------------------+------------------+------------------+------------------+------------------+------------------+------------------+\n",
            "|summary|Temperature_Sensor_1|Temperature_Sensor_2|Temperature_Sensor_3|Flow_Rate_Sensor_1|Flow_Rate_Sensor_2|Flow_Rate_Sensor_3|Pressure _sensor_1|Pressure _sensor_2|Pressure _sensor_3|Vibration_Sensor_1|Vibration_Sensor_2|Vibration_Sensor_3|\n",
            "+-------+--------------------+--------------------+--------------------+------------------+------------------+------------------+------------------+------------------+------------------+------------------+------------------+------------------+\n",
            "|  0.25%|              2.8894|              4.9283|              7.5018|          3.425364|            5.0037|            1.4149|            4.0054|            1.5721|            3.1849|            3.9973|             5.502|            3.8219|\n",
            "| median|              4.8788|              6.4691|              9.3347|            7.0633|           11.7085|          2.671788|            5.7394|            3.8586|            6.7483|            8.7792|           12.1672|            8.8438|\n",
            "|  0.75%|              6.7877|              8.0988|             11.0468|           10.9103|           20.2629|            4.5025|            7.4988|            7.5993|           11.2533|          14.67984|           21.8327|           14.3551|\n",
            "+-------+--------------------+--------------------+--------------------+------------------+------------------+------------------+------------------+------------------+------------------+------------------+------------------+------------------+\n",
            "\n"
          ],
          "name": "stdout"
        }
      ]
    },
    {
      "cell_type": "code",
      "metadata": {
        "colab": {
          "base_uri": "https://localhost:8080/"
        },
        "id": "ceI2T6Fv_Hgf",
        "outputId": "a9001002-1edb-4267-8a31-20a16b00b9fc"
      },
      "source": [
        "data_new = data.drop(*['Status'])\n",
        "data_new.summary().show()"
      ],
      "execution_count": 242,
      "outputs": [
        {
          "output_type": "stream",
          "text": [
            "+-------+--------------------+--------------------+--------------------+------------------+------------------+------------------+------------------+------------------+------------------+------------------+------------------+------------------+\n",
            "|summary|Temperature_Sensor_1|Temperature_Sensor_2|Temperature_Sensor_3|Flow_Rate_Sensor_1|Flow_Rate_Sensor_2|Flow_Rate_Sensor_3|Pressure _sensor_1|Pressure _sensor_2|Pressure _sensor_3|Vibration_Sensor_1|Vibration_Sensor_2|Vibration_Sensor_3|\n",
            "+-------+--------------------+--------------------+--------------------+------------------+------------------+------------------+------------------+------------------+------------------+------------------+------------------+------------------+\n",
            "|  count|                 996|                 996|                 996|               996|               996|               996|               996|               996|               996|               996|               996|               996|\n",
            "|   mean|  4.9995738935742935|   6.379273152610439|   9.228112114457828| 7.355272086345389|14.199126817269088| 3.077957961847389| 5.749233845381521| 4.997002126506022| 8.164562875502012|10.001592885542175|15.187981682730907| 9.933591132530118|\n",
            "| stddev|   2.764855518719287|   2.312568802265547|   2.532172890894333| 4.354778181006016|11.680045382938975|2.1260909561041483|2.5261356617270914| 4.165489943788825| 6.173261395362337| 7.336232686802318|12.159624740968102| 7.282383326906687|\n",
            "|    min|              0.0082|              0.0403|            2.583966|            0.0623|            0.0248|          0.008262|          0.001224|            0.0058|               0.0|            0.0185|            0.0646|            0.0092|\n",
            "|    25%|              2.8894|              4.9283|              7.5018|          3.425364|            5.0037|            1.4149|            4.0054|            1.5721|            3.1849|            3.9973|             5.502|            3.8219|\n",
            "|    50%|              4.8788|              6.4691|              9.3347|            7.0633|           11.7085|          2.671788|            5.7394|            3.8586|            6.7483|            8.7792|           12.1672|            8.8438|\n",
            "|    75%|              6.7877|              8.0988|             11.0468|           10.9103|           20.2629|            4.5025|            7.4988|            7.5993|           11.2533|          14.67984|           21.8327|           14.3551|\n",
            "|    max|             12.1298|             11.9284|             15.7599|         17.235858|           67.9794|         10.242738|           12.6475|          16.55562|         36.186438|           34.8676|           53.2384|           43.2314|\n",
            "+-------+--------------------+--------------------+--------------------+------------------+------------------+------------------+------------------+------------------+------------------+------------------+------------------+------------------+\n",
            "\n"
          ],
          "name": "stdout"
        }
      ]
    },
    {
      "cell_type": "markdown",
      "metadata": {
        "id": "t_VgCaHYqAsb"
      },
      "source": [
        "# Part 2\n",
        "Visualise the data as follows: create two plots, i.e. box plot and a scatter plot. The box plot shall include the two classes (normal/abnormal) in the x-axis, and the “Vibration_Sensor_1” in the y-axis. The scatter plot shall include the feature “Vibration_Sensor_2” with the graphs of both classes appearing in the same plot (different colour or symbol). Please elaborate on what information one can obtain from each of these two plots."
      ]
    },
    {
      "cell_type": "code",
      "metadata": {
        "id": "3euxlnLZ47YK"
      },
      "source": [
        "#PLotting Boxplot\n",
        "from matplotlib import pyplot as plt\n",
        "from handyspark import *\n",
        "hdf = data.toHandy()"
      ],
      "execution_count": 243,
      "outputs": []
    },
    {
      "cell_type": "code",
      "metadata": {
        "colab": {
          "base_uri": "https://localhost:8080/",
          "height": 285
        },
        "id": "KWb-OWsAD18p",
        "outputId": "5bb13020-bcb9-4a4c-ad48-4ecc5666e521"
      },
      "source": [
        "hdf.stratify(['Status']).cols['Vibration_Sensor_1'].boxplot(figsize=(6, 4));\n",
        "#Ref: https://github.com/dvgodoy/handyspark/blob/master/notebooks/Exploring_Titanic.ipynb Adapted the code from the referenced notebook on github which was used of Titanic dataset.\n",
        "\n",
        "plt.xticks(fontsize = 14);\n",
        "plt.yticks(fontsize = 12);\n",
        "plt.title(\"\");\n",
        "#plt.savefig('/content/drive/My Drive/00_Asssessment/Spark/figure/box.png', dpi=200);"
      ],
      "execution_count": 244,
      "outputs": [
        {
          "output_type": "display_data",
          "data": {
            "image/png": "[encoded data removed]",
            "text/plain": [
              "<Figure size 432x288 with 1 Axes>"
            ]
          },
          "metadata": {
            "tags": [],
            "needs_background": "light"
          }
        }
      ]
    },
    {
      "cell_type": "code",
      "metadata": {
        "colab": {
          "base_uri": "https://localhost:8080/",
          "height": 356
        },
        "id": "kb5lAMpymHo_",
        "outputId": "67e850cb-8858-4520-dc58-15bb6a469ff9"
      },
      "source": [
        "from pyspark .ml. feature import StringIndexer\n",
        " \n",
        "spark.conf.set(\"spark.sql.execution.arrow.enabled\", \"true\")\n",
        "label_Indexer = StringIndexer( inputCol =\"Status\", outputCol =\"label\")\n",
        "updated_hdf = label_Indexer.fit(hdf).transform(hdf)\n",
        "\n",
        "#Plotting Density PLot\n",
        "plt.figure(figsize=(6, 4))\n",
        "\n",
        "updated_hdf = data.select(\"Status\",\"Vibration_Sensor_2\").toPandas() #Converted spark dataframe to Pandas()\n",
        "sns.scatterplot(updated_hdf.Vibration_Sensor_2[updated_hdf.Status=='Normal'], label='Normal')\n",
        "sns.scatterplot(updated_hdf.Vibration_Sensor_2[updated_hdf.Status=='Abnormal'], label='Abnormal');\n",
        "plt.xlabel(\"Vibration_Sensor_2\", fontsize = 12)\n",
        "\n",
        "plt.xticks(fontsize = 12);\n",
        "plt.yticks(fontsize = 12);\n",
        "plt.legend(fontsize = 12)\n",
        "plt.xlabel(\"\");"
      ],
      "execution_count": 245,
      "outputs": [
        {
          "output_type": "stream",
          "text": [
            "/usr/local/lib/python3.7/dist-packages/seaborn/_decorators.py:43: FutureWarning: Pass the following variable as a keyword arg: x. From version 0.12, the only valid positional argument will be `data`, and passing other arguments without an explicit keyword will result in an error or misinterpretation.\n",
            "  FutureWarning\n",
            "/usr/local/lib/python3.7/dist-packages/seaborn/_decorators.py:43: FutureWarning: Pass the following variable as a keyword arg: x. From version 0.12, the only valid positional argument will be `data`, and passing other arguments without an explicit keyword will result in an error or misinterpretation.\n",
            "  FutureWarning\n"
          ],
          "name": "stderr"
        },
        {
          "output_type": "display_data",
          "data": {
            "image/png": "[encoded data removed]",
            "text/plain": [
              "<Figure size 432x288 with 1 Axes>"
            ]
          },
          "metadata": {
            "tags": [],
            "needs_background": "light"
          }
        }
      ]
    },
    {
      "cell_type": "markdown",
      "metadata": {
        "id": "Pn05aqlqp9il"
      },
      "source": [
        "#Part 3\n",
        "Using the Apache spark ecosystem, such as pyspark, sparksql or any other component needed, please develop and train a binary logistic regression model to classify the condition of nuclear reactors, i.e. normal or abnormal, based on how they operate. Split the dataset provided into a training (75%) and test (25%) sets. Please use the training set to train your developed model keeping the test set only for evaluating its performance in unseen data"
      ]
    },
    {
      "cell_type": "code",
      "metadata": {
        "colab": {
          "base_uri": "https://localhost:8080/"
        },
        "id": "zTo0hS4SzTue",
        "outputId": "82c67746-396a-404c-c1c6-a62665acc727"
      },
      "source": [
        "#Binarising the label\n",
        "#Code adapted from how-to-use guide available form Ref: https://spark.apache.org/docs/latest/ml-features\n",
        "from pyspark.ml.feature import StringIndexer\n",
        "labelIndexer = StringIndexer(inputCol=\"Status\", outputCol=\"label\").fit(data)\n",
        "data = labelIndexer.transform(data)\n",
        "data.select(\"Status\",\"label\").rdd.takeSample(False, 5, seed=0)"
      ],
      "execution_count": 246,
      "outputs": [
        {
          "output_type": "execute_result",
          "data": {
            "text/plain": [
              "[Row(Status='Normal', label=1.0),\n",
              " Row(Status='Abnormal', label=0.0),\n",
              " Row(Status='Normal', label=1.0),\n",
              " Row(Status='Abnormal', label=0.0),\n",
              " Row(Status='Normal', label=1.0)]"
            ]
          },
          "metadata": {
            "tags": []
          },
          "execution_count": 246
        }
      ]
    },
    {
      "cell_type": "code",
      "metadata": {
        "colab": {
          "base_uri": "https://localhost:8080/"
        },
        "id": "ryiifXUyl8Ym",
        "outputId": "a2a5216b-a216-4bb5-ebb4-f2e2ecfaba94"
      },
      "source": [
        "#Vectorise the Features\n",
        "#Code adapted from how-to-use guide available form Ref1: https://spark.apache.org/docs/latest/ml-features and Practical 4: BigDataMSc\\_ready\\_solutions.ipynb of the module\n",
        "from pyspark.ml.feature import VectorAssembler\n",
        "from pyspark.ml.linalg import Vectors\n",
        "import py4j\n",
        "\n",
        "data = data.drop(*['Status'])\n",
        "inputcols = np.array(data.columns)[np.array(data.columns)!='label']\n",
        "assembler = VectorAssembler(inputCols= inputcols, outputCol = \"predictors\")\n",
        "\n",
        "predictors = assembler.transform(data)\n",
        "model_data = predictors.select(\"predictors\", \"label\")\n",
        "model_data.show(5,truncate=False)"
      ],
      "execution_count": 247,
      "outputs": [
        {
          "output_type": "stream",
          "text": [
            "+----------------------------------------------------------------------------------------+-----+\n",
            "|predictors                                                                              |label|\n",
            "+----------------------------------------------------------------------------------------+-----+\n",
            "|[4.5044,0.7443,6.34,1.9052,29.5315,0.8647,2.2044,6.048,14.4659,21.648,15.3429,1.2186]   |1.0  |\n",
            "|[4.4284,0.9073,5.6433,1.6232,27.5032,1.4704,1.9929,5.9856,20.8356,0.0646,14.8813,7.3483]|1.0  |\n",
            "|[4.5291,1.0199,6.113,1.0565,26.4271,1.9247,1.942,6.7162,5.3358,11.0779,25.0914,9.2408]  |1.0  |\n",
            "|[5.1727,1.0007,7.8589,0.2765,25.1576,2.609,2.9234,6.7485,1.9017,1.8463,28.664,4.0157]   |1.0  |\n",
            "|[5.2258,0.6125,7.9504,0.1547,24.0765,3.2113,4.4563,5.8411,0.5077,9.37,34.8122,13.4966]  |1.0  |\n",
            "+----------------------------------------------------------------------------------------+-----+\n",
            "only showing top 5 rows\n",
            "\n"
          ],
          "name": "stdout"
        }
      ]
    },
    {
      "cell_type": "code",
      "metadata": {
        "colab": {
          "base_uri": "https://localhost:8080/"
        },
        "id": "4C9ydlx3_706",
        "outputId": "674d8d0a-4cdb-43b1-9aa2-a10fa5eb63a6"
      },
      "source": [
        "from pyspark.ml.classification import RandomForestClassifier\n",
        "#Ref: Practical 4: BigDataMSc\\_ready\\_solutions.ipynb of the module \n",
        "#Adapted the linear regression model approach used in the practical 4 and applied it to the logistic regression.\n",
        "\n",
        "train_data, test_data = model_data.randomSplit([0.70,0.30], seed=1)\n",
        "\n",
        "random_forest = RandomForestClassifier(featuresCol = 'predictors', labelCol=  'label')\n",
        "random_forest_Model = random_forest.fit(train_data)\n",
        "#Ref: https://spark.apache.org/docs/latest/ml-classification-regression.html#binomial-logistic-regression\n",
        "\n",
        "lr_predictions = random_forest_Model.transform(test_data) \n",
        "lr_predictions.show(10)"
      ],
      "execution_count": 248,
      "outputs": [
        {
          "output_type": "stream",
          "text": [
            "+--------------------+-----+--------------------+--------------------+----------+\n",
            "|          predictors|label|       rawPrediction|         probability|prediction|\n",
            "+--------------------+-----+--------------------+--------------------+----------+\n",
            "|[0.1447,5.5261,7....|  1.0|[6.28448841503363...|[0.31422442075168...|       1.0|\n",
            "|[0.4724,4.9612,8....|  1.0|[13.5905319304748...|[0.67952659652374...|       0.0|\n",
            "|[0.8276,11.4771,1...|  1.0|[5.73913415888151...|[0.28695670794407...|       1.0|\n",
            "|[0.856,4.6408,6.5...|  1.0|[11.1219937012178...|[0.55609968506089...|       0.0|\n",
            "|[1.1609,4.8175,7....|  1.0|[4.17096331775115...|[0.20854816588755...|       1.0|\n",
            "|[1.3065,5.3293,7....|  1.0|[8.92348010265440...|[0.44617400513272...|       1.0|\n",
            "|[1.4502,4.3204,7....|  1.0|[12.2002747207867...|[0.61001373603933...|       0.0|\n",
            "|[1.5271,5.0052,7....|  1.0|[11.4167808700403...|[0.57083904350201...|       0.0|\n",
            "|[1.6333,9.2532,10...|  1.0|[11.9684189016022...|[0.59842094508011...|       0.0|\n",
            "|[1.6681,5.8282,6....|  1.0|[5.48030715369188...|[0.27401535768459...|       1.0|\n",
            "+--------------------+-----+--------------------+--------------------+----------+\n",
            "only showing top 10 rows\n",
            "\n"
          ],
          "name": "stdout"
        }
      ]
    },
    {
      "cell_type": "markdown",
      "metadata": {
        "id": "JnyUlEiPpic_"
      },
      "source": [
        "# Part 4\n",
        "Use the following three metrics to report the model’s performance, i.e. Precision/Recall, Accuracy and Area under the curve (AUROC). When reporting performance, please only use the test set created by yourselves."
      ]
    },
    {
      "cell_type": "code",
      "metadata": {
        "colab": {
          "base_uri": "https://localhost:8080/"
        },
        "id": "h0zON4BRAuY5",
        "outputId": "015cc18f-dcaa-4358-ec92-6ede9363d68e"
      },
      "source": [
        "#Evaluation Metrics\n",
        "lr_pl = lr_predictions.select(\"prediction\",\"label\")\n",
        "tp = lr_pl[(lr_pl.prediction == 1) & (lr_pl.label == 1)].count()\n",
        "tn = lr_pl[(lr_pl.prediction == 0) & (lr_pl.label == 0)].count()\n",
        "fp = lr_pl[(lr_pl.prediction == 0) & (lr_pl.label == 1)].count()\n",
        "fn = lr_pl[(lr_pl.prediction == 1) & (lr_pl.label == 0)].count()\n",
        "\n",
        "cm = np.array([[tp, fp], [fn, tn]])\n",
        "col_name = [\"Actual Abnormal\", 'Actual Normal']\n",
        "row_name = ['Predicted Abnormal', 'Predicted Normal']\n",
        "df_cm = pd.DataFrame(cm, index = [i for i in col_name],\n",
        "                      columns = [i for i in row_name])\n",
        "\n",
        "#Code adapted from how-to-use guide available form Ref: https://spark.apache.org/docs/latest/ml-features\n",
        "from pyspark.ml.evaluation import BinaryClassificationEvaluator\n",
        "evaluator = BinaryClassificationEvaluator()\n",
        "auroc = evaluator.evaluate(lr_predictions)\n",
        "\n",
        "print('Accuracy: ', (tp + tn) / (tp + tn + fp + fn))\n",
        "print('Precision: ', tp / (tp + fp))\n",
        "print('Recall: ', tp / (tp + fn))\n",
        "print('Test Area Under ROC: ', auroc)\n",
        "print('\\n\\nConfusion Matrix:\\n', df_cm)"
      ],
      "execution_count": 249,
      "outputs": [
        {
          "output_type": "stream",
          "text": [
            "Accuracy:  0.8321678321678322\n",
            "Precision:  0.7943262411347518\n",
            "Recall:  0.8549618320610687\n",
            "Test Area Under ROC:  0.9284177060405967\n",
            "\n",
            "\n",
            "Confusion Matrix:\n",
            "                  Predicted Abnormal  Predicted Normal\n",
            "Actual Abnormal                 112                29\n",
            "Actual Normal                    19               126\n"
          ],
          "name": "stdout"
        }
      ]
    },
    {
      "cell_type": "code",
      "metadata": {
        "colab": {
          "base_uri": "https://localhost:8080/",
          "height": 295
        },
        "id": "qK7InmPnSS3U",
        "outputId": "6b65cc9f-c96e-4832-ac02-63e484be7a28"
      },
      "source": [
        "#Plotting ROC and PR Curve\n",
        "#Code adapted from the below github notebook which was prepared for titanic dataset \n",
        "#Ref: https://github.com/dvgodoy/handyspark/blob/master/notebooks/Exploring_Titanic.ipynb\n",
        "from handyspark import BinaryClassificationMetrics\n",
        "\n",
        "bcm = BinaryClassificationMetrics(lr_predictions, scoreCol='probability', labelCol='label')\n",
        "fig, axs = plt.subplots(1, 2, figsize=(10,4))\n",
        "bcm.plot_roc_curve(ax=axs[0])\n",
        "bcm.plot_pr_curve(ax=axs[1]);\n",
        "\n",
        "#plt.savefig('/content/drive/My Drive/00_Asssessment/Spark/figure/roc_lr.png', dpi=200)"
      ],
      "execution_count": 250,
      "outputs": [
        {
          "output_type": "display_data",
          "data": {
            "image/png": "[encoded data removed]",
            "text/plain": [
              "<Figure size 720x288 with 2 Axes>"
            ]
          },
          "metadata": {
            "tags": [],
            "needs_background": "light"
          }
        }
      ]
    },
    {
      "cell_type": "markdown",
      "metadata": {
        "id": "RIvtARoIpEoO"
      },
      "source": [
        "### **PART 5 (MULTI-LAYER PERCEPTRON CLASSIFIER)**\n",
        "\n",
        "Repeat steps 3 and 4 but using a multilayer perceptron classifier this time\n"
      ]
    },
    {
      "cell_type": "code",
      "metadata": {
        "colab": {
          "base_uri": "https://localhost:8080/"
        },
        "id": "q0JrWUEAljez",
        "outputId": "cf8d0c04-af1b-4682-dfb7-b67b8bdd64d8"
      },
      "source": [
        "from pyspark.ml.classification import MultilayerPerceptronClassifier\n",
        "from pyspark.ml.evaluation import MulticlassClassificationEvaluator\n",
        "from pyspark.sql import SparkSession\n",
        "\n",
        "if __name__ == \"__main__\":\n",
        "    spark = SparkSession\\\n",
        "        .builder.appName(\"multilayer_perceptron_classification_example\").getOrCreate()\n",
        "\n",
        "inputs = np.array(data.columns)[np.array(data.columns)!= 'label'] #[column for column in h_df.columns ]\n",
        "print(len(inputs))\n",
        "\n",
        "layers = [len(inputs), 5, 4, 4, 3 , 2]\n",
        "# create the trainer and set its parameters\n",
        "mlp_trainer = MultilayerPerceptronClassifier(featuresCol = 'predictors', labelCol=  'label', maxIter=100, layers=layers, blockSize=128, seed=1)\n",
        "\n",
        "\n",
        "# train the model\n",
        "model = mlp_trainer.fit(train_data)\n",
        "\n",
        "# compute accuracy on the test set\n",
        "result = model.transform(test_data)\n",
        "predictionAndLabels = result.select(\"prediction\", \"label\")\n",
        "evaluator = MulticlassClassificationEvaluator(metricName=\"accuracy\")\n",
        "print(\"Test set accuracy = \" + str(evaluator.evaluate(predictionAndLabels)))"
      ],
      "execution_count": 251,
      "outputs": [
        {
          "output_type": "stream",
          "text": [
            "12\n",
            "Test set accuracy = 0.6958041958041958\n"
          ],
          "name": "stdout"
        }
      ]
    },
    {
      "cell_type": "code",
      "metadata": {
        "colab": {
          "base_uri": "https://localhost:8080/"
        },
        "id": "hWyoQhi2Jv-Q",
        "outputId": "b3c7a441-9ea7-4a2b-c8c1-8af8bdcba982"
      },
      "source": [
        "# Evaluating on Test Data\n",
        "tp = predictionAndLabels[(predictionAndLabels.prediction == 1) & (predictionAndLabels.label == 1)].count()\n",
        "tn = predictionAndLabels[(predictionAndLabels.prediction == 0) & (predictionAndLabels.label == 0)].count()\n",
        "fp = predictionAndLabels[(predictionAndLabels.prediction == 0) & (predictionAndLabels.label == 1)].count()\n",
        "fn = predictionAndLabels[(predictionAndLabels.prediction == 1) & (predictionAndLabels.label == 0)].count()\n",
        "\n",
        "print('Accuracy: ', (tp + tn) / (tp + tn + fp + fn))"
      ],
      "execution_count": 252,
      "outputs": [
        {
          "output_type": "stream",
          "text": [
            "Accuracy:  0.6958041958041958\n"
          ],
          "name": "stdout"
        }
      ]
    },
    {
      "cell_type": "code",
      "metadata": {
        "colab": {
          "base_uri": "https://localhost:8080/"
        },
        "id": "pfJEY_WTSj3r",
        "outputId": "35ef181c-5055-41ca-9557-8d50443bf61b"
      },
      "source": [
        "#Splitting training data into training data and validation data\n",
        "train_data, val_data = train_data.randomSplit([0.70,0.30], seed=100)\n",
        "train_data.count(), val_data.count()"
      ],
      "execution_count": 253,
      "outputs": [
        {
          "output_type": "execute_result",
          "data": {
            "text/plain": [
              "(508, 202)"
            ]
          },
          "metadata": {
            "tags": []
          },
          "execution_count": 253
        }
      ]
    },
    {
      "cell_type": "markdown",
      "metadata": {
        "id": "K8xn1jWWEEVP"
      },
      "source": [
        "#*Fine Tuning Model*"
      ]
    },
    {
      "cell_type": "code",
      "metadata": {
        "id": "bnl3IoVMSlvG"
      },
      "source": [
        "#Code adapted from how-to-use guide available form Ref: https://spark.apache.org/docs/latest/ml-classification-regression.html\n",
        "mlp_trainer = MultilayerPerceptronClassifier(featuresCol = 'predictors', labelCol=  'label', maxIter=100, layers=layers, blockSize=128, seed=1)\n",
        "model = mlp_trainer.fit(train_data)\n",
        "result = model.transform(val_data)\n",
        "predictionAndLabels = result.select(\"prediction\", \"label\")"
      ],
      "execution_count": 254,
      "outputs": []
    },
    {
      "cell_type": "code",
      "metadata": {
        "colab": {
          "base_uri": "https://localhost:8080/"
        },
        "id": "nseg_Q2-Sn6z",
        "outputId": "a415557d-5190-43ab-cc74-36687725ad21"
      },
      "source": [
        "# Running Iterations for GBT Classifier Model with Validation dataset\n",
        "accuracy_scores = []\n",
        "i = 0\n",
        "for n_iter in range(1,100):\n",
        "  i +=1\n",
        "  mlp_trainer = MultilayerPerceptronClassifier(featuresCol = 'predictors', labelCol=  'label', maxIter=n_iter, layers=layers, blockSize=128, seed=1234)\n",
        "  model = mlp_trainer.fit(train_data)\n",
        "  result = model.transform(test_data)\n",
        "  predictionAndLabels = result.select(\"prediction\", \"label\")\n",
        "\n",
        "  tp = predictionAndLabels[(predictionAndLabels.prediction == 1) & (predictionAndLabels.label == 1)].count()\n",
        "  tn = predictionAndLabels[(predictionAndLabels.prediction == 0) & (predictionAndLabels.label == 0)].count()\n",
        "  fp = predictionAndLabels[(predictionAndLabels.prediction == 0) & (predictionAndLabels.label == 1)].count()\n",
        "  fn = predictionAndLabels[(predictionAndLabels.prediction == 1) & (predictionAndLabels.label == 0)].count()\n",
        "  acc = (tp + tn) / (tp + tn + fp + fn)\n",
        "\n",
        "  print('Iteration:', n_iter, '  Accuracy:', acc)\n",
        "  accuracy_scores.append(acc) "
      ],
      "execution_count": 255,
      "outputs": [
        {
          "output_type": "stream",
          "text": [
            "Iteration: 1   Accuracy: 0.493006993006993\n",
            "Iteration: 2   Accuracy: 0.506993006993007\n",
            "Iteration: 3   Accuracy: 0.506993006993007\n",
            "Iteration: 4   Accuracy: 0.506993006993007\n",
            "Iteration: 5   Accuracy: 0.506993006993007\n",
            "Iteration: 6   Accuracy: 0.506993006993007\n",
            "Iteration: 7   Accuracy: 0.506993006993007\n",
            "Iteration: 8   Accuracy: 0.506993006993007\n",
            "Iteration: 9   Accuracy: 0.506993006993007\n",
            "Iteration: 10   Accuracy: 0.506993006993007\n",
            "Iteration: 11   Accuracy: 0.506993006993007\n",
            "Iteration: 12   Accuracy: 0.506993006993007\n",
            "Iteration: 13   Accuracy: 0.506993006993007\n",
            "Iteration: 14   Accuracy: 0.506993006993007\n",
            "Iteration: 15   Accuracy: 0.506993006993007\n",
            "Iteration: 16   Accuracy: 0.506993006993007\n",
            "Iteration: 17   Accuracy: 0.506993006993007\n",
            "Iteration: 18   Accuracy: 0.5734265734265734\n",
            "Iteration: 19   Accuracy: 0.5804195804195804\n",
            "Iteration: 20   Accuracy: 0.5874125874125874\n",
            "Iteration: 21   Accuracy: 0.6258741258741258\n",
            "Iteration: 22   Accuracy: 0.5944055944055944\n",
            "Iteration: 23   Accuracy: 0.5909090909090909\n",
            "Iteration: 24   Accuracy: 0.5909090909090909\n",
            "Iteration: 25   Accuracy: 0.5944055944055944\n",
            "Iteration: 26   Accuracy: 0.5944055944055944\n",
            "Iteration: 27   Accuracy: 0.6013986013986014\n",
            "Iteration: 28   Accuracy: 0.6013986013986014\n",
            "Iteration: 29   Accuracy: 0.6013986013986014\n",
            "Iteration: 30   Accuracy: 0.5979020979020979\n",
            "Iteration: 31   Accuracy: 0.6013986013986014\n",
            "Iteration: 32   Accuracy: 0.6013986013986014\n",
            "Iteration: 33   Accuracy: 0.6083916083916084\n",
            "Iteration: 34   Accuracy: 0.6048951048951049\n",
            "Iteration: 35   Accuracy: 0.6048951048951049\n",
            "Iteration: 36   Accuracy: 0.6083916083916084\n",
            "Iteration: 37   Accuracy: 0.6223776223776224\n",
            "Iteration: 38   Accuracy: 0.6188811188811189\n",
            "Iteration: 39   Accuracy: 0.6293706293706294\n",
            "Iteration: 40   Accuracy: 0.6188811188811189\n",
            "Iteration: 41   Accuracy: 0.6153846153846154\n",
            "Iteration: 42   Accuracy: 0.6083916083916084\n",
            "Iteration: 43   Accuracy: 0.6153846153846154\n",
            "Iteration: 44   Accuracy: 0.6223776223776224\n",
            "Iteration: 45   Accuracy: 0.6188811188811189\n",
            "Iteration: 46   Accuracy: 0.6363636363636364\n",
            "Iteration: 47   Accuracy: 0.6398601398601399\n",
            "Iteration: 48   Accuracy: 0.6363636363636364\n",
            "Iteration: 49   Accuracy: 0.6328671328671329\n",
            "Iteration: 50   Accuracy: 0.6328671328671329\n",
            "Iteration: 51   Accuracy: 0.6328671328671329\n",
            "Iteration: 52   Accuracy: 0.6328671328671329\n",
            "Iteration: 53   Accuracy: 0.6293706293706294\n",
            "Iteration: 54   Accuracy: 0.6328671328671329\n",
            "Iteration: 55   Accuracy: 0.6328671328671329\n",
            "Iteration: 56   Accuracy: 0.6398601398601399\n",
            "Iteration: 57   Accuracy: 0.6363636363636364\n",
            "Iteration: 58   Accuracy: 0.6293706293706294\n",
            "Iteration: 59   Accuracy: 0.6293706293706294\n",
            "Iteration: 60   Accuracy: 0.6328671328671329\n",
            "Iteration: 61   Accuracy: 0.6293706293706294\n",
            "Iteration: 62   Accuracy: 0.6293706293706294\n",
            "Iteration: 63   Accuracy: 0.6363636363636364\n",
            "Iteration: 64   Accuracy: 0.6398601398601399\n",
            "Iteration: 65   Accuracy: 0.6398601398601399\n",
            "Iteration: 66   Accuracy: 0.6433566433566433\n",
            "Iteration: 67   Accuracy: 0.6433566433566433\n",
            "Iteration: 68   Accuracy: 0.6433566433566433\n",
            "Iteration: 69   Accuracy: 0.6433566433566433\n",
            "Iteration: 70   Accuracy: 0.6433566433566433\n",
            "Iteration: 71   Accuracy: 0.6398601398601399\n",
            "Iteration: 72   Accuracy: 0.6433566433566433\n",
            "Iteration: 73   Accuracy: 0.6433566433566433\n",
            "Iteration: 74   Accuracy: 0.6468531468531469\n",
            "Iteration: 75   Accuracy: 0.6468531468531469\n",
            "Iteration: 76   Accuracy: 0.6433566433566433\n",
            "Iteration: 77   Accuracy: 0.6433566433566433\n",
            "Iteration: 78   Accuracy: 0.6433566433566433\n",
            "Iteration: 79   Accuracy: 0.6433566433566433\n",
            "Iteration: 80   Accuracy: 0.6398601398601399\n",
            "Iteration: 81   Accuracy: 0.6398601398601399\n",
            "Iteration: 82   Accuracy: 0.6363636363636364\n",
            "Iteration: 83   Accuracy: 0.6363636363636364\n",
            "Iteration: 84   Accuracy: 0.6468531468531469\n",
            "Iteration: 85   Accuracy: 0.6503496503496503\n",
            "Iteration: 86   Accuracy: 0.6538461538461539\n",
            "Iteration: 87   Accuracy: 0.6503496503496503\n",
            "Iteration: 88   Accuracy: 0.6538461538461539\n",
            "Iteration: 89   Accuracy: 0.6538461538461539\n",
            "Iteration: 90   Accuracy: 0.6503496503496503\n",
            "Iteration: 91   Accuracy: 0.6503496503496503\n",
            "Iteration: 92   Accuracy: 0.6503496503496503\n",
            "Iteration: 93   Accuracy: 0.6503496503496503\n",
            "Iteration: 94   Accuracy: 0.6538461538461539\n",
            "Iteration: 95   Accuracy: 0.6503496503496503\n",
            "Iteration: 96   Accuracy: 0.6538461538461539\n",
            "Iteration: 97   Accuracy: 0.6503496503496503\n",
            "Iteration: 98   Accuracy: 0.6538461538461539\n",
            "Iteration: 99   Accuracy: 0.6538461538461539\n"
          ],
          "name": "stdout"
        }
      ]
    },
    {
      "cell_type": "code",
      "metadata": {
        "colab": {
          "base_uri": "https://localhost:8080/",
          "height": 290
        },
        "id": "yNaU7Wd1SpaU",
        "outputId": "cc48642d-0fce-4cbb-96c2-b52ed16d6725"
      },
      "source": [
        "#Plotting Accuracy Scores\n",
        "plt.plot(accuracy_scores);\n",
        "plt.xlabel(\"Number of Trees\", fontsize = 12)\n",
        "plt.ylabel(\"Acurracy\", fontsize = 12)\n",
        "plt.yticks(np.arange(0.40, 0.80, 0.02), fontsize = 12);\n",
        "plt.xticks(fontsize = 12);\n",
        "#plt.savefig('/content/drive/My Drive/00_Asssessment/Spark/figure/gbt_accuracy.png', dpi=200)"
      ],
      "execution_count": 257,
      "outputs": [
        {
          "output_type": "display_data",
          "data": {
            "image/png": "[encoded data removed]",
            "text/plain": [
              "<Figure size 432x288 with 1 Axes>"
            ]
          },
          "metadata": {
            "tags": [],
            "needs_background": "light"
          }
        }
      ]
    },
    {
      "cell_type": "code",
      "metadata": {
        "id": "HOycnFXWS16P"
      },
      "source": [
        "mlp_trainer = MultilayerPerceptronClassifier(featuresCol = 'predictors', labelCol=  'label', maxIter=n_iter, layers=layers, blockSize=128, seed=1234)\n",
        "model = mlp_trainer.fit(train_data)\n",
        "result = model.transform(test_data)\n",
        "predictionAndLabels = result.select(\"prediction\", \"label\")"
      ],
      "execution_count": 258,
      "outputs": []
    },
    {
      "cell_type": "code",
      "metadata": {
        "colab": {
          "base_uri": "https://localhost:8080/"
        },
        "id": "5qNHpswuS3um",
        "outputId": "6e9e8110-18d4-4508-eac2-4efb3d2302ac"
      },
      "source": [
        "tp = predictionAndLabels[(predictionAndLabels.prediction == 1) & (predictionAndLabels.label == 1)].count()\n",
        "tn = predictionAndLabels[(predictionAndLabels.prediction == 0) & (predictionAndLabels.label == 0)].count()\n",
        "fp = predictionAndLabels[(predictionAndLabels.prediction == 0) & (predictionAndLabels.label == 1)].count()\n",
        "fn = predictionAndLabels[(predictionAndLabels.prediction == 1) & (predictionAndLabels.label == 0)].count()\n",
        "\n",
        "cm = np.array([[tp, fp], [fn, tn]])\n",
        "col_name = [\"Actual Abnormal\", 'Actual Normal']\n",
        "row_name = ['Predicted Abnormal', 'Predicted Normal']\n",
        "df_cm = pd.DataFrame(cm, index = [i for i in col_name],\n",
        "                      columns = [i for i in row_name])\n",
        "\n",
        "#Code adapted from how-to-use guide available form Ref: https://spark.apache.org/docs/latest/ml-features\n",
        "auroc = evaluator.evaluate(result)\n",
        "\n",
        "print('Accuracy: ', (tp + tn) / (tp + tn + fp + fn))\n",
        "print('Precision: ', tp / (tp + fp))\n",
        "print('Recall: ', tp / (tp + fn))\n",
        "print('Test Area Under ROC: ', auroc)\n",
        "print('\\n\\nConfusion Matrix:\\n', df_cm)"
      ],
      "execution_count": 260,
      "outputs": [
        {
          "output_type": "stream",
          "text": [
            "Accuracy:  0.6538461538461539\n",
            "Precision:  0.6099290780141844\n",
            "Recall:  0.6615384615384615\n",
            "Test Area Under ROC:  0.6538461538461539\n",
            "\n",
            "\n",
            "Confusion Matrix:\n",
            "                  Predicted Abnormal  Predicted Normal\n",
            "Actual Abnormal                  86                55\n",
            "Actual Normal                    44               101\n"
          ],
          "name": "stdout"
        }
      ]
    },
    {
      "cell_type": "code",
      "metadata": {
        "colab": {
          "base_uri": "https://localhost:8080/",
          "height": 295
        },
        "id": "Yqj81hnRS5B6",
        "outputId": "d478eab4-d80a-41b9-91f2-1eced2910076"
      },
      "source": [
        "bcm = BinaryClassificationMetrics(result, scoreCol='probability', labelCol='label')\n",
        "fig, axs = plt.subplots(1, 2, figsize=(10, 4))\n",
        "bcm.plot_roc_curve(ax=axs[0])\n",
        "bcm.plot_pr_curve(ax=axs[1]);\n",
        "\n",
        "#plt.savefig('/content/drive/My Drive/00_Asssessment/Spark/figure/roc_gbt_test.png', dpi=200)"
      ],
      "execution_count": 261,
      "outputs": [
        {
          "output_type": "display_data",
          "data": {
            "image/png": "[encoded data removed]",
            "text/plain": [
              "<Figure size 720x288 with 2 Axes>"
            ]
          },
          "metadata": {
            "tags": [],
            "needs_background": "light"
          }
        }
      ]
    }
  ]
}